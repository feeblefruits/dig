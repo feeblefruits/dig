{
 "cells": [
  {
   "cell_type": "code",
   "execution_count": 15,
   "metadata": {},
   "outputs": [],
   "source": [
    "import pandas as pd"
   ]
  },
  {
   "cell_type": "code",
   "execution_count": 16,
   "metadata": {},
   "outputs": [],
   "source": [
    "df = pd.read_csv('claimants.csv')"
   ]
  },
  {
   "cell_type": "code",
   "execution_count": 20,
   "metadata": {},
   "outputs": [],
   "source": [
    "df = df[['Latitude', 'Longitude']]"
   ]
  },
  {
   "cell_type": "code",
   "execution_count": 23,
   "metadata": {},
   "outputs": [
    {
     "data": {
      "text/plain": [
       "0        -29,174700\n",
       "1        -30,559500\n",
       "2        -30,692715\n",
       "3        -32,555707\n",
       "4        -32,774769\n",
       "5        -31,163040\n",
       "6        -33,304216\n",
       "7        -32,330833\n",
       "8        -29,174700\n",
       "9        -30,692715\n",
       "10       -20,191400\n",
       "11       -31,361987\n",
       "12       -30,965069\n",
       "13       -27,754306\n",
       "14       -30,343570\n",
       "15       -32,774769\n",
       "16       -32,787493\n",
       "17       -28,873682\n",
       "18       -31,543315\n",
       "19       -29,822400\n",
       "20       -31,080419\n",
       "21       -29,315100\n",
       "22       -31,543315\n",
       "23       -31,354780\n",
       "24       -29,447600\n",
       "25       -30,142600\n",
       "26       -27,986442\n",
       "27       -30,559500\n",
       "28       -32,787493\n",
       "29       -31,361987\n",
       "            ...    \n",
       "45959    -29,610000\n",
       "45960    -29,610000\n",
       "45961    -29,610000\n",
       "45962    -29,610000\n",
       "45963    -29,610000\n",
       "45964    -29,610000\n",
       "45965    -29,610000\n",
       "45966    -29,610000\n",
       "45967    -29,610000\n",
       "45968    -30,559500\n",
       "45969    -29,610000\n",
       "45970    -29,610000\n",
       "45971    -29,610000\n",
       "45972    -29,610000\n",
       "45973    -29,610000\n",
       "45974    -29,610000\n",
       "45975    -29,610000\n",
       "45976    -29,610000\n",
       "45977    -29,610000\n",
       "45978    -29,610000\n",
       "45979    -29,610000\n",
       "45980    -29,610000\n",
       "45981    -29,610000\n",
       "45982    -29,610000\n",
       "45983    -29,610000\n",
       "45984    -29,610000\n",
       "45985    -29,610000\n",
       "45986    -29,610000\n",
       "45987    -29,610000\n",
       "45988    -29,610000\n",
       "Name: Latitude, Length: 45989, dtype: object"
      ]
     },
     "execution_count": 23,
     "metadata": {},
     "output_type": "execute_result"
    }
   ],
   "source": [
    "df['Latitude'][.replace(',', '.')]"
   ]
  },
  {
   "cell_type": "code",
   "execution_count": 19,
   "metadata": {},
   "outputs": [],
   "source": [
    "df.to_csv('claimants_coordinates_v2.csv', index=False)"
   ]
  },
  {
   "cell_type": "code",
   "execution_count": null,
   "metadata": {},
   "outputs": [],
   "source": []
  },
  {
   "cell_type": "code",
   "execution_count": null,
   "metadata": {},
   "outputs": [],
   "source": []
  }
 ],
 "metadata": {
  "kernelspec": {
   "display_name": "Python 3",
   "language": "python",
   "name": "python3"
  },
  "language_info": {
   "codemirror_mode": {
    "name": "ipython",
    "version": 3
   },
   "file_extension": ".py",
   "mimetype": "text/x-python",
   "name": "python",
   "nbconvert_exporter": "python",
   "pygments_lexer": "ipython3",
   "version": "3.6.6"
  }
 },
 "nbformat": 4,
 "nbformat_minor": 2
}
