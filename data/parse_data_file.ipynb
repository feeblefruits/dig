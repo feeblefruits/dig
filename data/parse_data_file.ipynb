{
 "cells": [
  {
   "cell_type": "code",
   "execution_count": 18,
   "metadata": {},
   "outputs": [],
   "source": [
    "import pandas as pd"
   ]
  },
  {
   "cell_type": "code",
   "execution_count": 19,
   "metadata": {},
   "outputs": [],
   "source": [
    "df = pd.read_csv('claimants.csv')"
   ]
  },
  {
   "cell_type": "code",
   "execution_count": 20,
   "metadata": {},
   "outputs": [
    {
     "name": "stdout",
     "output_type": "stream",
     "text": [
      "<class 'pandas.core.frame.DataFrame'>\n",
      "RangeIndex: 45989 entries, 0 to 45988\n",
      "Data columns (total 8 columns):\n",
      "Group         45989 non-null object\n",
      "First Name    45989 non-null object\n",
      "Last Name     45988 non-null object\n",
      "Category      12829 non-null object\n",
      "City          45989 non-null object\n",
      "Country       45980 non-null object\n",
      "Latitude      45989 non-null object\n",
      "Longitude     45989 non-null object\n",
      "dtypes: object(8)\n",
      "memory usage: 2.8+ MB\n"
     ]
    }
   ],
   "source": [
    "df.info()"
   ]
  },
  {
   "cell_type": "code",
   "execution_count": 21,
   "metadata": {},
   "outputs": [],
   "source": [
    "locations_df = df['City'].value_counts()[:50].reset_index()\n",
    "locations_df.columns = ['Location', 'Claimants']\n",
    "locations_df.to_csv('dig_claimant_locations.csv', index=False)"
   ]
  },
  {
   "cell_type": "code",
   "execution_count": 22,
   "metadata": {},
   "outputs": [],
   "source": [
    "def remove_commas(value):\n",
    "    return value.replace(',', '.')"
   ]
  },
  {
   "cell_type": "code",
   "execution_count": 27,
   "metadata": {},
   "outputs": [],
   "source": [
    "df['Latitude'] = df['Latitude'].apply(remove_commas)\n",
    "df['Longitude'] = df['Longitude'].apply(remove_commas)"
   ]
  },
  {
   "cell_type": "code",
   "execution_count": 25,
   "metadata": {},
   "outputs": [
    {
     "data": {
      "text/plain": [
       "MODERATE                     5604\n",
       "WEAK                         2334\n",
       "STRONG                       1131\n",
       "NONE                         1069\n",
       "STRONG (TB)                   614\n",
       "SLTB                          454\n",
       "SDTB                          291\n",
       "WEAK COAL                     263\n",
       "SLSI                          165\n",
       "MLTB                          131\n",
       "MDTB                           90\n",
       "STRONG (MBOD)                  80\n",
       "WEAK (PLATINUM)                72\n",
       "W                              64\n",
       "SDSI                           59\n",
       "STRONG (TEBA)                  51\n",
       "CLASS REP                      49\n",
       "QT OVERLAP                     45\n",
       "STRONG (TB MBOD)               40\n",
       "MODERATE (TEBA)                38\n",
       "STRONG (TEBA MBOD)             22\n",
       "SLS                            20\n",
       "STRONG (SIL)                   20\n",
       "MODERATE TB                    19\n",
       "MLSI                           18\n",
       "STRONG (SIL-TB)                16\n",
       "STRONG (TB EMC)                 9\n",
       "STRONG (PTB)                    9\n",
       "STRONG (SIL MBOD)               8\n",
       "STRONG (SILICOSIS)              7\n",
       "STRONG (TB TEBA)                7\n",
       "STRONG (SIL-EMC)                6\n",
       "STRONG (SIL - MBOD - EMC)       4\n",
       "STRONG (SIL - MBOD) TEBA        3\n",
       "SDS                             3\n",
       "STRONG (TB - MBOD) TEBA         3\n",
       "MDSI                            3\n",
       "STRONG (TB EMC MBOD)            2\n",
       "STRONG (EMC)                    2\n",
       "STRONG (PTB-DC)                 1\n",
       "STRONG (SIL-TB-MBOD)            1\n",
       "STRONG (TB-DC)                  1\n",
       "WTB                             1\n",
       "Name: Category, dtype: int64"
      ]
     },
     "execution_count": 25,
     "metadata": {},
     "output_type": "execute_result"
    }
   ],
   "source": [
    "df['Category'].value_counts()"
   ]
  },
  {
   "cell_type": "code",
   "execution_count": 30,
   "metadata": {},
   "outputs": [],
   "source": [
    "df.to_csv('claimants_coordinates_v3.csv', index=False)"
   ]
  },
  {
   "cell_type": "code",
   "execution_count": null,
   "metadata": {},
   "outputs": [],
   "source": []
  },
  {
   "cell_type": "code",
   "execution_count": null,
   "metadata": {},
   "outputs": [],
   "source": []
  }
 ],
 "metadata": {
  "kernelspec": {
   "display_name": "Python 3",
   "language": "python",
   "name": "python3"
  },
  "language_info": {
   "codemirror_mode": {
    "name": "ipython",
    "version": 3
   },
   "file_extension": ".py",
   "mimetype": "text/x-python",
   "name": "python",
   "nbconvert_exporter": "python",
   "pygments_lexer": "ipython3",
   "version": "3.7.0"
  }
 },
 "nbformat": 4,
 "nbformat_minor": 2
}
